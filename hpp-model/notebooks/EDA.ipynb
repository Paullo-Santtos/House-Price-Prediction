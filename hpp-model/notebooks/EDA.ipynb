{
 "cells": [
  {
   "cell_type": "markdown",
   "metadata": {},
   "source": [
    "# Initial Command"
   ]
  },
  {
   "cell_type": "code",
   "execution_count": 60,
   "metadata": {},
   "outputs": [
    {
     "name": "stdout",
     "output_type": "stream",
     "text": [
      "The kedro.ipython extension is already loaded. To reload it, use:\n",
      "  %reload_ext kedro.ipython\n"
     ]
    }
   ],
   "source": [
    "%load_ext kedro.ipython"
   ]
  },
  {
   "cell_type": "markdown",
   "metadata": {},
   "source": [
    "# Imports and Load Data"
   ]
  },
  {
   "cell_type": "code",
   "execution_count": 61,
   "metadata": {},
   "outputs": [],
   "source": [
    "import pandas as pd\n",
    "import matplotlib\n",
    "import matplotlib.pyplot as plt\n",
    "import seaborn as sns\n",
    "\n",
    "%matplotlib inline\n",
    "matplotlib.rcParams[\"figure.figsize\"] = (14, 6)\n",
    "matplotlib.rcParams.update({\"font.size\": 12})\n",
    "sns.set(style=\"white\", color_codes=True, rc={\"figure.figsize\": (14, 6)}, palette=\"deep\")\n",
    "\n",
    "from typing import List, Dict"
   ]
  },
  {
   "cell_type": "code",
   "execution_count": 62,
   "metadata": {},
   "outputs": [
    {
     "data": {
      "text/html": [
       "<pre style=\"white-space:pre;overflow-x:auto;line-height:normal;font-family:Menlo,'DejaVu Sans Mono',consolas,'Courier New',monospace\"><span style=\"color: #7fbfbf; text-decoration-color: #7fbfbf\">[01/14/24 14:31:12] </span><span style=\"color: #000080; text-decoration-color: #000080\">INFO    </span> Loading data from <span style=\"color: #ff8700; text-decoration-color: #ff8700\">house_price</span> <span style=\"font-weight: bold\">(</span>CSVDataset<span style=\"font-weight: bold\">)</span><span style=\"color: #808000; text-decoration-color: #808000\">...</span>                      <a href=\"file://C:\\Users\\paulo.santos\\AppData\\Local\\anaconda3\\envs\\house_price\\Lib\\site-packages\\kedro\\io\\data_catalog.py\" target=\"_blank\"><span style=\"color: #7f7f7f; text-decoration-color: #7f7f7f\">data_catalog.py</span></a><span style=\"color: #7f7f7f; text-decoration-color: #7f7f7f\">:</span><a href=\"file://C:\\Users\\paulo.santos\\AppData\\Local\\anaconda3\\envs\\house_price\\Lib\\site-packages\\kedro\\io\\data_catalog.py#482\" target=\"_blank\"><span style=\"color: #7f7f7f; text-decoration-color: #7f7f7f\">482</span></a>\n",
       "</pre>\n"
      ],
      "text/plain": [
       "\u001b[2;36m[01/14/24 14:31:12]\u001b[0m\u001b[2;36m \u001b[0m\u001b[34mINFO    \u001b[0m Loading data from \u001b[38;5;208mhouse_price\u001b[0m \u001b[1m(\u001b[0mCSVDataset\u001b[1m)\u001b[0m\u001b[33m...\u001b[0m                      \u001b]8;id=312519;file://C:\\Users\\paulo.santos\\AppData\\Local\\anaconda3\\envs\\house_price\\Lib\\site-packages\\kedro\\io\\data_catalog.py\u001b\\\u001b[2mdata_catalog.py\u001b[0m\u001b]8;;\u001b\\\u001b[2m:\u001b[0m\u001b]8;id=71839;file://C:\\Users\\paulo.santos\\AppData\\Local\\anaconda3\\envs\\house_price\\Lib\\site-packages\\kedro\\io\\data_catalog.py#482\u001b\\\u001b[2m482\u001b[0m\u001b]8;;\u001b\\\n"
      ]
     },
     "metadata": {},
     "output_type": "display_data"
    }
   ],
   "source": [
    "house_price = catalog.load('house_price')"
   ]
  },
  {
   "cell_type": "markdown",
   "metadata": {},
   "source": [
    "# Data processing\n"
   ]
  },
  {
   "cell_type": "markdown",
   "metadata": {},
   "source": [
    "## Summary View"
   ]
  },
  {
   "cell_type": "code",
   "execution_count": 63,
   "metadata": {},
   "outputs": [
    {
     "data": {
      "text/html": [
       "<pre style=\"white-space:pre;overflow-x:auto;line-height:normal;font-family:Menlo,'DejaVu Sans Mono',consolas,'Courier New',monospace\"></pre>\n"
      ],
      "text/plain": []
     },
     "metadata": {},
     "output_type": "display_data"
    },
    {
     "data": {
      "text/html": [
       "<div>\n",
       "<style scoped>\n",
       "    .dataframe tbody tr th:only-of-type {\n",
       "        vertical-align: middle;\n",
       "    }\n",
       "\n",
       "    .dataframe tbody tr th {\n",
       "        vertical-align: top;\n",
       "    }\n",
       "\n",
       "    .dataframe thead th {\n",
       "        text-align: right;\n",
       "    }\n",
       "</style>\n",
       "<table border=\"1\" class=\"dataframe\">\n",
       "  <thead>\n",
       "    <tr style=\"text-align: right;\">\n",
       "      <th></th>\n",
       "      <th>logradouro</th>\n",
       "      <th>numero</th>\n",
       "      <th>bairro</th>\n",
       "      <th>cep</th>\n",
       "      <th>cidade</th>\n",
       "      <th>tipo_de_imovel</th>\n",
       "      <th>area_util</th>\n",
       "      <th>banheiros</th>\n",
       "      <th>suites</th>\n",
       "      <th>quartos</th>\n",
       "      <th>vagas_garagem</th>\n",
       "      <th>anuncio_criado</th>\n",
       "      <th>tipo_anuncio</th>\n",
       "      <th>preco_venda</th>\n",
       "      <th>taxa_condominio</th>\n",
       "      <th>periodicidade</th>\n",
       "      <th>preco_aluguel</th>\n",
       "      <th>iptu_ano</th>\n",
       "    </tr>\n",
       "  </thead>\n",
       "  <tbody>\n",
       "    <tr>\n",
       "      <th>0</th>\n",
       "      <td>Rua Juvenal Galeno</td>\n",
       "      <td>53</td>\n",
       "      <td>Jardim da Saúde</td>\n",
       "      <td>4290030.0</td>\n",
       "      <td>São Paulo</td>\n",
       "      <td>Casa de dois andares</td>\n",
       "      <td>388.0</td>\n",
       "      <td>3.0</td>\n",
       "      <td>1.0</td>\n",
       "      <td>4.0</td>\n",
       "      <td>6.0</td>\n",
       "      <td>2017-02-07</td>\n",
       "      <td>Venda</td>\n",
       "      <td>700000</td>\n",
       "      <td>NaN</td>\n",
       "      <td>NaN</td>\n",
       "      <td>NaN</td>\n",
       "      <td>NaN</td>\n",
       "    </tr>\n",
       "    <tr>\n",
       "      <th>1</th>\n",
       "      <td>Rua Juruaba</td>\n",
       "      <td>16</td>\n",
       "      <td>Vila Santa Teresa (Zona Sul)</td>\n",
       "      <td>4187320.0</td>\n",
       "      <td>São Paulo</td>\n",
       "      <td>Casa</td>\n",
       "      <td>129.0</td>\n",
       "      <td>2.0</td>\n",
       "      <td>1.0</td>\n",
       "      <td>3.0</td>\n",
       "      <td>2.0</td>\n",
       "      <td>2016-03-21</td>\n",
       "      <td>Venda</td>\n",
       "      <td>336000</td>\n",
       "      <td>NaN</td>\n",
       "      <td>NaN</td>\n",
       "      <td>NaN</td>\n",
       "      <td>NaN</td>\n",
       "    </tr>\n",
       "    <tr>\n",
       "      <th>2</th>\n",
       "      <td>Avenida Paulista</td>\n",
       "      <td>402</td>\n",
       "      <td>Bela Vista</td>\n",
       "      <td>1311000.0</td>\n",
       "      <td>São Paulo</td>\n",
       "      <td>Comercial</td>\n",
       "      <td>396.0</td>\n",
       "      <td>4.0</td>\n",
       "      <td>0.0</td>\n",
       "      <td>0.0</td>\n",
       "      <td>5.0</td>\n",
       "      <td>2018-12-18</td>\n",
       "      <td>Locação</td>\n",
       "      <td>24929</td>\n",
       "      <td>4900.0</td>\n",
       "      <td>MONTHLY</td>\n",
       "      <td>29829.0</td>\n",
       "      <td>4040.0</td>\n",
       "    </tr>\n",
       "    <tr>\n",
       "      <th>3</th>\n",
       "      <td>Rua Alvorada</td>\n",
       "      <td>1190</td>\n",
       "      <td>Vila Olímpia</td>\n",
       "      <td>4550004.0</td>\n",
       "      <td>São Paulo</td>\n",
       "      <td>Apartamento</td>\n",
       "      <td>80.0</td>\n",
       "      <td>2.0</td>\n",
       "      <td>1.0</td>\n",
       "      <td>3.0</td>\n",
       "      <td>2.0</td>\n",
       "      <td>2018-10-26</td>\n",
       "      <td>Venda</td>\n",
       "      <td>739643</td>\n",
       "      <td>686.0</td>\n",
       "      <td>NaN</td>\n",
       "      <td>NaN</td>\n",
       "      <td>1610.0</td>\n",
       "    </tr>\n",
       "    <tr>\n",
       "      <th>4</th>\n",
       "      <td>Rua Curitiba</td>\n",
       "      <td>380</td>\n",
       "      <td>Paraíso</td>\n",
       "      <td>4005030.0</td>\n",
       "      <td>São Paulo</td>\n",
       "      <td>Apartamento</td>\n",
       "      <td>3322.0</td>\n",
       "      <td>5.0</td>\n",
       "      <td>4.0</td>\n",
       "      <td>4.0</td>\n",
       "      <td>5.0</td>\n",
       "      <td>2018-12-14</td>\n",
       "      <td>Venda</td>\n",
       "      <td>7520099</td>\n",
       "      <td>6230.0</td>\n",
       "      <td>NaN</td>\n",
       "      <td>NaN</td>\n",
       "      <td>18900.0</td>\n",
       "    </tr>\n",
       "    <tr>\n",
       "      <th>...</th>\n",
       "      <td>...</td>\n",
       "      <td>...</td>\n",
       "      <td>...</td>\n",
       "      <td>...</td>\n",
       "      <td>...</td>\n",
       "      <td>...</td>\n",
       "      <td>...</td>\n",
       "      <td>...</td>\n",
       "      <td>...</td>\n",
       "      <td>...</td>\n",
       "      <td>...</td>\n",
       "      <td>...</td>\n",
       "      <td>...</td>\n",
       "      <td>...</td>\n",
       "      <td>...</td>\n",
       "      <td>...</td>\n",
       "      <td>...</td>\n",
       "      <td>...</td>\n",
       "    </tr>\n",
       "    <tr>\n",
       "      <th>133959</th>\n",
       "      <td>Rua Glicério</td>\n",
       "      <td>255</td>\n",
       "      <td>Liberdade</td>\n",
       "      <td>1514000.0</td>\n",
       "      <td>São Paulo</td>\n",
       "      <td>Apartamento</td>\n",
       "      <td>53.0</td>\n",
       "      <td>2.0</td>\n",
       "      <td>1.0</td>\n",
       "      <td>2.0</td>\n",
       "      <td>1.0</td>\n",
       "      <td>2018-11-28</td>\n",
       "      <td>Venda</td>\n",
       "      <td>249782</td>\n",
       "      <td>210.0</td>\n",
       "      <td>NaN</td>\n",
       "      <td>NaN</td>\n",
       "      <td>0.0</td>\n",
       "    </tr>\n",
       "    <tr>\n",
       "      <th>133960</th>\n",
       "      <td>Rua Laboriosa</td>\n",
       "      <td>NaN</td>\n",
       "      <td>Jardim das Bandeiras</td>\n",
       "      <td>5434060.0</td>\n",
       "      <td>São Paulo</td>\n",
       "      <td>Escritório</td>\n",
       "      <td>450.0</td>\n",
       "      <td>3.0</td>\n",
       "      <td>1.0</td>\n",
       "      <td>3.0</td>\n",
       "      <td>4.0</td>\n",
       "      <td>2018-08-08</td>\n",
       "      <td>Venda</td>\n",
       "      <td>1085000</td>\n",
       "      <td>NaN</td>\n",
       "      <td>NaN</td>\n",
       "      <td>NaN</td>\n",
       "      <td>507.0</td>\n",
       "    </tr>\n",
       "    <tr>\n",
       "      <th>133961</th>\n",
       "      <td>Rua José Pereira de Carvalho</td>\n",
       "      <td>10</td>\n",
       "      <td>Vila Lageado</td>\n",
       "      <td>5337090.0</td>\n",
       "      <td>São Paulo</td>\n",
       "      <td>Apartamento</td>\n",
       "      <td>20.0</td>\n",
       "      <td>3.0</td>\n",
       "      <td>2.0</td>\n",
       "      <td>3.0</td>\n",
       "      <td>2.0</td>\n",
       "      <td>2019-02-06</td>\n",
       "      <td>Venda</td>\n",
       "      <td>623000</td>\n",
       "      <td>NaN</td>\n",
       "      <td>NaN</td>\n",
       "      <td>NaN</td>\n",
       "      <td>NaN</td>\n",
       "    </tr>\n",
       "    <tr>\n",
       "      <th>133962</th>\n",
       "      <td>Rua Evangelista Rodrigues</td>\n",
       "      <td>234</td>\n",
       "      <td>Alto de Pinheiros</td>\n",
       "      <td>5463000.0</td>\n",
       "      <td>São Paulo</td>\n",
       "      <td>Casa de dois andares</td>\n",
       "      <td>357.0</td>\n",
       "      <td>4.0</td>\n",
       "      <td>1.0</td>\n",
       "      <td>4.0</td>\n",
       "      <td>4.0</td>\n",
       "      <td>2018-04-14</td>\n",
       "      <td>Venda</td>\n",
       "      <td>1820000</td>\n",
       "      <td>0.0</td>\n",
       "      <td>NaN</td>\n",
       "      <td>NaN</td>\n",
       "      <td>665.0</td>\n",
       "    </tr>\n",
       "    <tr>\n",
       "      <th>133963</th>\n",
       "      <td>Avenida da Liberdade</td>\n",
       "      <td>113</td>\n",
       "      <td>Liberdade</td>\n",
       "      <td>1503000.0</td>\n",
       "      <td>São Paulo</td>\n",
       "      <td>Escritório</td>\n",
       "      <td>40.0</td>\n",
       "      <td>1.0</td>\n",
       "      <td>NaN</td>\n",
       "      <td>NaN</td>\n",
       "      <td>NaN</td>\n",
       "      <td>2018-10-19</td>\n",
       "      <td>Locação</td>\n",
       "      <td>842</td>\n",
       "      <td>399.0</td>\n",
       "      <td>MONTHLY</td>\n",
       "      <td>1241.0</td>\n",
       "      <td>1610.0</td>\n",
       "    </tr>\n",
       "  </tbody>\n",
       "</table>\n",
       "<p>133964 rows × 18 columns</p>\n",
       "</div>"
      ],
      "text/plain": [
       "\n",
       "                          logradouro numero                        bairro  \\\n",
       "\u001b[1;36m0\u001b[0m                 Rua Juvenal Galeno     \u001b[1;36m53\u001b[0m               Jardim da Saúde   \n",
       "\u001b[1;36m1\u001b[0m                        Rua Juruaba     \u001b[1;36m16\u001b[0m  Vila Santa Teresa \u001b[1m(\u001b[0mZona Sul\u001b[1m)\u001b[0m   \n",
       "\u001b[1;36m2\u001b[0m                   Avenida Paulista    \u001b[1;36m402\u001b[0m                    Bela Vista   \n",
       "\u001b[1;36m3\u001b[0m                       Rua Alvorada   \u001b[1;36m1190\u001b[0m                  Vila Olímpia   \n",
       "\u001b[1;36m4\u001b[0m                       Rua Curitiba    \u001b[1;36m380\u001b[0m                       Paraíso   \n",
       "\u001b[33m...\u001b[0m                              \u001b[33m...\u001b[0m    \u001b[33m...\u001b[0m                           \u001b[33m...\u001b[0m   \n",
       "\u001b[1;36m133959\u001b[0m                  Rua Glicério    \u001b[1;36m255\u001b[0m                     Liberdade   \n",
       "\u001b[1;36m133960\u001b[0m                 Rua Laboriosa    NaN          Jardim das Bandeiras   \n",
       "\u001b[1;36m133961\u001b[0m  Rua José Pereira de Carvalho     \u001b[1;36m10\u001b[0m                  Vila Lageado   \n",
       "\u001b[1;36m133962\u001b[0m     Rua Evangelista Rodrigues    \u001b[1;36m234\u001b[0m             Alto de Pinheiros   \n",
       "\u001b[1;36m133963\u001b[0m          Avenida da Liberdade    \u001b[1;36m113\u001b[0m                     Liberdade   \n",
       "\n",
       "              cep     cidade        tipo_de_imovel  area_util  banheiros  \\\n",
       "\u001b[1;36m0\u001b[0m       \u001b[1;36m4290030.0\u001b[0m  São Paulo  Casa de dois andares      \u001b[1;36m388.0\u001b[0m        \u001b[1;36m3.0\u001b[0m   \n",
       "\u001b[1;36m1\u001b[0m       \u001b[1;36m4187320.0\u001b[0m  São Paulo                  Casa      \u001b[1;36m129.0\u001b[0m        \u001b[1;36m2.0\u001b[0m   \n",
       "\u001b[1;36m2\u001b[0m       \u001b[1;36m1311000.0\u001b[0m  São Paulo             Comercial      \u001b[1;36m396.0\u001b[0m        \u001b[1;36m4.0\u001b[0m   \n",
       "\u001b[1;36m3\u001b[0m       \u001b[1;36m4550004.0\u001b[0m  São Paulo           Apartamento       \u001b[1;36m80.0\u001b[0m        \u001b[1;36m2.0\u001b[0m   \n",
       "\u001b[1;36m4\u001b[0m       \u001b[1;36m4005030.0\u001b[0m  São Paulo           Apartamento     \u001b[1;36m3322.0\u001b[0m        \u001b[1;36m5.0\u001b[0m   \n",
       "\u001b[33m...\u001b[0m           \u001b[33m...\u001b[0m        \u001b[33m...\u001b[0m                   \u001b[33m...\u001b[0m        \u001b[33m...\u001b[0m        \u001b[33m...\u001b[0m   \n",
       "\u001b[1;36m133959\u001b[0m  \u001b[1;36m1514000.0\u001b[0m  São Paulo           Apartamento       \u001b[1;36m53.0\u001b[0m        \u001b[1;36m2.0\u001b[0m   \n",
       "\u001b[1;36m133960\u001b[0m  \u001b[1;36m5434060.0\u001b[0m  São Paulo            Escritório      \u001b[1;36m450.0\u001b[0m        \u001b[1;36m3.0\u001b[0m   \n",
       "\u001b[1;36m133961\u001b[0m  \u001b[1;36m5337090.0\u001b[0m  São Paulo           Apartamento       \u001b[1;36m20.0\u001b[0m        \u001b[1;36m3.0\u001b[0m   \n",
       "\u001b[1;36m133962\u001b[0m  \u001b[1;36m5463000.0\u001b[0m  São Paulo  Casa de dois andares      \u001b[1;36m357.0\u001b[0m        \u001b[1;36m4.0\u001b[0m   \n",
       "\u001b[1;36m133963\u001b[0m  \u001b[1;36m1503000.0\u001b[0m  São Paulo            Escritório       \u001b[1;36m40.0\u001b[0m        \u001b[1;36m1.0\u001b[0m   \n",
       "\n",
       "        suites  quartos  vagas_garagem anuncio_criado tipo_anuncio  \\\n",
       "\u001b[1;36m0\u001b[0m          \u001b[1;36m1.0\u001b[0m      \u001b[1;36m4.0\u001b[0m            \u001b[1;36m6.0\u001b[0m     \u001b[1;36m2017\u001b[0m-\u001b[1;36m02\u001b[0m-\u001b[1;36m07\u001b[0m        Venda   \n",
       "\u001b[1;36m1\u001b[0m          \u001b[1;36m1.0\u001b[0m      \u001b[1;36m3.0\u001b[0m            \u001b[1;36m2.0\u001b[0m     \u001b[1;36m2016\u001b[0m-\u001b[1;36m03\u001b[0m-\u001b[1;36m21\u001b[0m        Venda   \n",
       "\u001b[1;36m2\u001b[0m          \u001b[1;36m0.0\u001b[0m      \u001b[1;36m0.0\u001b[0m            \u001b[1;36m5.0\u001b[0m     \u001b[1;36m2018\u001b[0m-\u001b[1;36m12\u001b[0m-\u001b[1;36m18\u001b[0m      Locação   \n",
       "\u001b[1;36m3\u001b[0m          \u001b[1;36m1.0\u001b[0m      \u001b[1;36m3.0\u001b[0m            \u001b[1;36m2.0\u001b[0m     \u001b[1;36m2018\u001b[0m-\u001b[1;36m10\u001b[0m-\u001b[1;36m26\u001b[0m        Venda   \n",
       "\u001b[1;36m4\u001b[0m          \u001b[1;36m4.0\u001b[0m      \u001b[1;36m4.0\u001b[0m            \u001b[1;36m5.0\u001b[0m     \u001b[1;36m2018\u001b[0m-\u001b[1;36m12\u001b[0m-\u001b[1;36m14\u001b[0m        Venda   \n",
       "\u001b[33m...\u001b[0m        \u001b[33m...\u001b[0m      \u001b[33m...\u001b[0m            \u001b[33m...\u001b[0m            \u001b[33m...\u001b[0m          \u001b[33m...\u001b[0m   \n",
       "\u001b[1;36m133959\u001b[0m     \u001b[1;36m1.0\u001b[0m      \u001b[1;36m2.0\u001b[0m            \u001b[1;36m1.0\u001b[0m     \u001b[1;36m2018\u001b[0m-\u001b[1;36m11\u001b[0m-\u001b[1;36m28\u001b[0m        Venda   \n",
       "\u001b[1;36m133960\u001b[0m     \u001b[1;36m1.0\u001b[0m      \u001b[1;36m3.0\u001b[0m            \u001b[1;36m4.0\u001b[0m     \u001b[1;36m2018\u001b[0m-\u001b[1;36m08\u001b[0m-\u001b[1;36m08\u001b[0m        Venda   \n",
       "\u001b[1;36m133961\u001b[0m     \u001b[1;36m2.0\u001b[0m      \u001b[1;36m3.0\u001b[0m            \u001b[1;36m2.0\u001b[0m     \u001b[1;36m2019\u001b[0m-\u001b[1;36m02\u001b[0m-\u001b[1;36m06\u001b[0m        Venda   \n",
       "\u001b[1;36m133962\u001b[0m     \u001b[1;36m1.0\u001b[0m      \u001b[1;36m4.0\u001b[0m            \u001b[1;36m4.0\u001b[0m     \u001b[1;36m2018\u001b[0m-\u001b[1;36m04\u001b[0m-\u001b[1;36m14\u001b[0m        Venda   \n",
       "\u001b[1;36m133963\u001b[0m     NaN      NaN            NaN     \u001b[1;36m2018\u001b[0m-\u001b[1;36m10\u001b[0m-\u001b[1;36m19\u001b[0m      Locação   \n",
       "\n",
       "        preco_venda  taxa_condominio periodicidade  preco_aluguel  iptu_ano  \n",
       "\u001b[1;36m0\u001b[0m            \u001b[1;36m700000\u001b[0m              NaN           NaN            NaN       NaN  \n",
       "\u001b[1;36m1\u001b[0m            \u001b[1;36m336000\u001b[0m              NaN           NaN            NaN       NaN  \n",
       "\u001b[1;36m2\u001b[0m             \u001b[1;36m24929\u001b[0m           \u001b[1;36m4900.0\u001b[0m       MONTHLY        \u001b[1;36m29829.0\u001b[0m    \u001b[1;36m4040.0\u001b[0m  \n",
       "\u001b[1;36m3\u001b[0m            \u001b[1;36m739643\u001b[0m            \u001b[1;36m686.0\u001b[0m           NaN            NaN    \u001b[1;36m1610.0\u001b[0m  \n",
       "\u001b[1;36m4\u001b[0m           \u001b[1;36m7520099\u001b[0m           \u001b[1;36m6230.0\u001b[0m           NaN            NaN   \u001b[1;36m18900.0\u001b[0m  \n",
       "\u001b[33m...\u001b[0m             \u001b[33m...\u001b[0m              \u001b[33m...\u001b[0m           \u001b[33m...\u001b[0m            \u001b[33m...\u001b[0m       \u001b[33m...\u001b[0m  \n",
       "\u001b[1;36m133959\u001b[0m       \u001b[1;36m249782\u001b[0m            \u001b[1;36m210.0\u001b[0m           NaN            NaN       \u001b[1;36m0.0\u001b[0m  \n",
       "\u001b[1;36m133960\u001b[0m      \u001b[1;36m1085000\u001b[0m              NaN           NaN            NaN     \u001b[1;36m507.0\u001b[0m  \n",
       "\u001b[1;36m133961\u001b[0m       \u001b[1;36m623000\u001b[0m              NaN           NaN            NaN       NaN  \n",
       "\u001b[1;36m133962\u001b[0m      \u001b[1;36m1820000\u001b[0m              \u001b[1;36m0.0\u001b[0m           NaN            NaN     \u001b[1;36m665.0\u001b[0m  \n",
       "\u001b[1;36m133963\u001b[0m          \u001b[1;36m842\u001b[0m            \u001b[1;36m399.0\u001b[0m       MONTHLY         \u001b[1;36m1241.0\u001b[0m    \u001b[1;36m1610.0\u001b[0m  \n",
       "\n",
       "\u001b[1m[\u001b[0m\u001b[1;36m133964\u001b[0m rows x \u001b[1;36m18\u001b[0m columns\u001b[1m]\u001b[0m"
      ]
     },
     "execution_count": 63,
     "metadata": {},
     "output_type": "execute_result"
    }
   ],
   "source": [
    "house_price"
   ]
  },
  {
   "cell_type": "code",
   "execution_count": 64,
   "metadata": {},
   "outputs": [
    {
     "data": {
      "text/html": [
       "<pre style=\"white-space:pre;overflow-x:auto;line-height:normal;font-family:Menlo,'DejaVu Sans Mono',consolas,'Courier New',monospace\"></pre>\n"
      ],
      "text/plain": []
     },
     "metadata": {},
     "output_type": "display_data"
    },
    {
     "data": {
      "text/plain": [
       "\n",
       "logradouro          object\n",
       "numero              object\n",
       "bairro              object\n",
       "cep                float64\n",
       "cidade              object\n",
       "tipo_de_imovel      object\n",
       "area_util          float64\n",
       "banheiros          float64\n",
       "suites             float64\n",
       "quartos            float64\n",
       "vagas_garagem      float64\n",
       "anuncio_criado      object\n",
       "tipo_anuncio        object\n",
       "preco_venda          int64\n",
       "taxa_condominio    float64\n",
       "periodicidade       object\n",
       "preco_aluguel      float64\n",
       "iptu_ano           float64\n",
       "dtype: object"
      ]
     },
     "execution_count": 64,
     "metadata": {},
     "output_type": "execute_result"
    }
   ],
   "source": [
    "house_price.dtypes"
   ]
  },
  {
   "cell_type": "markdown",
   "metadata": {},
   "source": [
    "## Selection and Renaming of variables"
   ]
  },
  {
   "cell_type": "code",
   "execution_count": 65,
   "metadata": {},
   "outputs": [],
   "source": [
    "def filter_columns(dataframe: pd.DataFrame, select_columns: List[str]) -> pd.DataFrame:\n",
    "    \"\"\"\n",
    "    Filters the columns of the DataFrame that are present in the desired_columns list.\n",
    "\n",
    "    Parameters:\n",
    "    - dataframe: The original DataFrame.\n",
    "    - select_columns: List of column names to be kept in the resulting DataFrame.\n",
    "\n",
    "    Returns:\n",
    "    - A new DataFrame containing only the desired columns.\n",
    "    \"\"\"\n",
    "    return dataframe[select_columns]"
   ]
  },
  {
   "cell_type": "code",
   "execution_count": 66,
   "metadata": {},
   "outputs": [],
   "source": [
    "def rename_columns(dataframe: pd.DataFrame, column_mapping: Dict[str, str]) -> pd.DataFrame:\n",
    "    \"\"\"\n",
    "    Renames columns of the DataFrame based on the provided column_mapping dictionary.\n",
    "\n",
    "    Parameters:\n",
    "    - dataframe: The original DataFrame.\n",
    "    - column_mapping: A dictionary where keys are current column names and values are the new names.\n",
    "\n",
    "    Returns:\n",
    "    - A new DataFrame with renamed columns.\n",
    "    \"\"\"\n",
    "    return dataframe.rename(columns=column_mapping)"
   ]
  },
  {
   "cell_type": "code",
   "execution_count": 67,
   "metadata": {},
   "outputs": [
    {
     "data": {
      "text/html": [
       "<pre style=\"white-space:pre;overflow-x:auto;line-height:normal;font-family:Menlo,'DejaVu Sans Mono',consolas,'Courier New',monospace\"></pre>\n"
      ],
      "text/plain": []
     },
     "metadata": {},
     "output_type": "display_data"
    },
    {
     "data": {
      "text/html": [
       "<div>\n",
       "<style scoped>\n",
       "    .dataframe tbody tr th:only-of-type {\n",
       "        vertical-align: middle;\n",
       "    }\n",
       "\n",
       "    .dataframe tbody tr th {\n",
       "        vertical-align: top;\n",
       "    }\n",
       "\n",
       "    .dataframe thead th {\n",
       "        text-align: right;\n",
       "    }\n",
       "</style>\n",
       "<table border=\"1\" class=\"dataframe\">\n",
       "  <thead>\n",
       "    <tr style=\"text-align: right;\">\n",
       "      <th></th>\n",
       "      <th>property</th>\n",
       "      <th>useful_area</th>\n",
       "      <th>bathroom</th>\n",
       "      <th>suite</th>\n",
       "      <th>bedroom</th>\n",
       "      <th>garage</th>\n",
       "      <th>ad</th>\n",
       "      <th>price</th>\n",
       "    </tr>\n",
       "  </thead>\n",
       "  <tbody>\n",
       "    <tr>\n",
       "      <th>0</th>\n",
       "      <td>Casa de dois andares</td>\n",
       "      <td>388.0</td>\n",
       "      <td>3.0</td>\n",
       "      <td>1.0</td>\n",
       "      <td>4.0</td>\n",
       "      <td>6.0</td>\n",
       "      <td>Venda</td>\n",
       "      <td>700000</td>\n",
       "    </tr>\n",
       "    <tr>\n",
       "      <th>1</th>\n",
       "      <td>Casa</td>\n",
       "      <td>129.0</td>\n",
       "      <td>2.0</td>\n",
       "      <td>1.0</td>\n",
       "      <td>3.0</td>\n",
       "      <td>2.0</td>\n",
       "      <td>Venda</td>\n",
       "      <td>336000</td>\n",
       "    </tr>\n",
       "  </tbody>\n",
       "</table>\n",
       "</div>"
      ],
      "text/plain": [
       "\n",
       "               property  useful_area  bathroom  suite  bedroom  garage     ad  \\\n",
       "\u001b[1;36m0\u001b[0m  Casa de dois andares        \u001b[1;36m388.0\u001b[0m       \u001b[1;36m3.0\u001b[0m    \u001b[1;36m1.0\u001b[0m      \u001b[1;36m4.0\u001b[0m     \u001b[1;36m6.0\u001b[0m  Venda   \n",
       "\u001b[1;36m1\u001b[0m                  Casa        \u001b[1;36m129.0\u001b[0m       \u001b[1;36m2.0\u001b[0m    \u001b[1;36m1.0\u001b[0m      \u001b[1;36m3.0\u001b[0m     \u001b[1;36m2.0\u001b[0m  Venda   \n",
       "\n",
       "    price  \n",
       "\u001b[1;36m0\u001b[0m  \u001b[1;36m700000\u001b[0m  \n",
       "\u001b[1;36m1\u001b[0m  \u001b[1;36m336000\u001b[0m  "
      ]
     },
     "execution_count": 67,
     "metadata": {},
     "output_type": "execute_result"
    }
   ],
   "source": [
    "select_columns=['tipo_de_imovel','area_util','banheiros','suites','quartos','vagas_garagem','tipo_anuncio','preco_venda']\n",
    "house_price_filtered = filter_columns(dataframe=house_price, select_columns=select_columns)\n",
    "\n",
    "column_mapping={'tipo_de_imovel':'property','area_util':'useful_area','banheiros':'bathroom',\n",
    "                'suites':'suite','quartos':'bedroom','vagas_garagem':'garage','tipo_anuncio':'ad',\n",
    "                'preco_venda':'price'}\n",
    "house_price_filtered = rename_columns(dataframe=house_price_filtered, column_mapping=column_mapping)\n",
    "\n",
    "house_price_filtered.head(2)"
   ]
  },
  {
   "cell_type": "markdown",
   "metadata": {},
   "source": [
    "## Renaming categories"
   ]
  },
  {
   "cell_type": "markdown",
   "metadata": {},
   "source": [
    "### Property"
   ]
  },
  {
   "cell_type": "code",
   "execution_count": 68,
   "metadata": {},
   "outputs": [
    {
     "data": {
      "text/html": [
       "<pre style=\"white-space:pre;overflow-x:auto;line-height:normal;font-family:Menlo,'DejaVu Sans Mono',consolas,'Courier New',monospace\"></pre>\n"
      ],
      "text/plain": []
     },
     "metadata": {},
     "output_type": "display_data"
    },
    {
     "data": {
      "text/plain": [
       "\n",
       "\u001b[1;35marray\u001b[0m\u001b[1m(\u001b[0m\u001b[1m[\u001b[0m\u001b[32m'Casa de dois andares'\u001b[0m, \u001b[32m'Casa'\u001b[0m, \u001b[32m'Comercial'\u001b[0m, \u001b[32m'Apartamento'\u001b[0m, \u001b[32m'Flat'\u001b[0m,\n",
       "       \u001b[32m'Condomínio'\u001b[0m, \u001b[32m'Depósito'\u001b[0m, \u001b[32m'Loteamento Residencial'\u001b[0m, \u001b[32m'Cobertura'\u001b[0m,\n",
       "       \u001b[32m'Loja'\u001b[0m, \u001b[32m'Prédio Residencial'\u001b[0m, \u001b[32m'Escritório'\u001b[0m, \u001b[32m'Loteamento Comercial'\u001b[0m,\n",
       "       \u001b[32m'Kitnet'\u001b[0m, \u001b[32m'Prédio Comercial'\u001b[0m, \u001b[32m'Clínica'\u001b[0m, \u001b[32m'Casa de Campo'\u001b[0m,\n",
       "       \u001b[32m'Fazenda'\u001b[0m\u001b[1m]\u001b[0m, \u001b[33mdtype\u001b[0m=\u001b[35mobject\u001b[0m\u001b[1m)\u001b[0m"
      ]
     },
     "execution_count": 68,
     "metadata": {},
     "output_type": "execute_result"
    }
   ],
   "source": [
    "house_price_filtered['property'].unique()"
   ]
  },
  {
   "cell_type": "code",
   "execution_count": 69,
   "metadata": {},
   "outputs": [],
   "source": [
    "property_mapping = {'Casa de dois andares':'residential', 'Casa':'residential', 'Comercial':'commercial', 'Apartamento':'residential', 'Flat':'residential',\n",
    "       'Condomínio':'residential', 'Depósito':'commercial', 'Loteamento Residencial':'residential', 'Cobertura':'residential',\n",
    "       'Loja':'commercial', 'Prédio Residencial':'residential', 'Escritório':'commercial', 'Loteamento Comercial':'commercial',\n",
    "       'Kitnet':'residential', 'Prédio Comercial':'commercial', 'Clínica':'commercial', 'Casa de Campo':'residential',\n",
    "       'Fazenda':'residential'}\n",
    "\n"
   ]
  },
  {
   "cell_type": "code",
   "execution_count": 70,
   "metadata": {},
   "outputs": [],
   "source": [
    "def map_categories(dataframe: pd.DataFrame, column_name: str, category_mapping: Dict[str, str]) -> pd.DataFrame:\n",
    "    \"\"\"\n",
    "    Maps categories in a specific column of the DataFrame based on the provided category_mapping dictionary.\n",
    "\n",
    "    Parameters:\n",
    "    - dataframe: The original DataFrame.\n",
    "    - column_name: The name of the column with categories to be mapped.\n",
    "    - category_mapping: A dictionary where keys are current category values and values are the new category values.\n",
    "\n",
    "    Returns:\n",
    "    - A new DataFrame with the specified column's categories mapped.\n",
    "    \"\"\"\n",
    "    dataframe_copy = dataframe.copy()  # Create a copy to avoid modifying the original DataFrame\n",
    "    dataframe_copy[column_name] = dataframe_copy[column_name].map(category_mapping)\n",
    "    return dataframe_copy"
   ]
  },
  {
   "cell_type": "code",
   "execution_count": 71,
   "metadata": {},
   "outputs": [
    {
     "data": {
      "text/html": [
       "<pre style=\"white-space:pre;overflow-x:auto;line-height:normal;font-family:Menlo,'DejaVu Sans Mono',consolas,'Courier New',monospace\"></pre>\n"
      ],
      "text/plain": []
     },
     "metadata": {},
     "output_type": "display_data"
    },
    {
     "data": {
      "text/html": [
       "<div>\n",
       "<style scoped>\n",
       "    .dataframe tbody tr th:only-of-type {\n",
       "        vertical-align: middle;\n",
       "    }\n",
       "\n",
       "    .dataframe tbody tr th {\n",
       "        vertical-align: top;\n",
       "    }\n",
       "\n",
       "    .dataframe thead th {\n",
       "        text-align: right;\n",
       "    }\n",
       "</style>\n",
       "<table border=\"1\" class=\"dataframe\">\n",
       "  <thead>\n",
       "    <tr style=\"text-align: right;\">\n",
       "      <th></th>\n",
       "      <th>property</th>\n",
       "      <th>useful_area</th>\n",
       "      <th>bathroom</th>\n",
       "      <th>suite</th>\n",
       "      <th>bedroom</th>\n",
       "      <th>garage</th>\n",
       "      <th>ad</th>\n",
       "      <th>price</th>\n",
       "    </tr>\n",
       "  </thead>\n",
       "  <tbody>\n",
       "    <tr>\n",
       "      <th>0</th>\n",
       "      <td>residential</td>\n",
       "      <td>388.0</td>\n",
       "      <td>3.0</td>\n",
       "      <td>1.0</td>\n",
       "      <td>4.0</td>\n",
       "      <td>6.0</td>\n",
       "      <td>Venda</td>\n",
       "      <td>700000</td>\n",
       "    </tr>\n",
       "    <tr>\n",
       "      <th>1</th>\n",
       "      <td>residential</td>\n",
       "      <td>129.0</td>\n",
       "      <td>2.0</td>\n",
       "      <td>1.0</td>\n",
       "      <td>3.0</td>\n",
       "      <td>2.0</td>\n",
       "      <td>Venda</td>\n",
       "      <td>336000</td>\n",
       "    </tr>\n",
       "    <tr>\n",
       "      <th>2</th>\n",
       "      <td>commercial</td>\n",
       "      <td>396.0</td>\n",
       "      <td>4.0</td>\n",
       "      <td>0.0</td>\n",
       "      <td>0.0</td>\n",
       "      <td>5.0</td>\n",
       "      <td>Locação</td>\n",
       "      <td>24929</td>\n",
       "    </tr>\n",
       "    <tr>\n",
       "      <th>3</th>\n",
       "      <td>residential</td>\n",
       "      <td>80.0</td>\n",
       "      <td>2.0</td>\n",
       "      <td>1.0</td>\n",
       "      <td>3.0</td>\n",
       "      <td>2.0</td>\n",
       "      <td>Venda</td>\n",
       "      <td>739643</td>\n",
       "    </tr>\n",
       "    <tr>\n",
       "      <th>4</th>\n",
       "      <td>residential</td>\n",
       "      <td>3322.0</td>\n",
       "      <td>5.0</td>\n",
       "      <td>4.0</td>\n",
       "      <td>4.0</td>\n",
       "      <td>5.0</td>\n",
       "      <td>Venda</td>\n",
       "      <td>7520099</td>\n",
       "    </tr>\n",
       "    <tr>\n",
       "      <th>...</th>\n",
       "      <td>...</td>\n",
       "      <td>...</td>\n",
       "      <td>...</td>\n",
       "      <td>...</td>\n",
       "      <td>...</td>\n",
       "      <td>...</td>\n",
       "      <td>...</td>\n",
       "      <td>...</td>\n",
       "    </tr>\n",
       "    <tr>\n",
       "      <th>133959</th>\n",
       "      <td>residential</td>\n",
       "      <td>53.0</td>\n",
       "      <td>2.0</td>\n",
       "      <td>1.0</td>\n",
       "      <td>2.0</td>\n",
       "      <td>1.0</td>\n",
       "      <td>Venda</td>\n",
       "      <td>249782</td>\n",
       "    </tr>\n",
       "    <tr>\n",
       "      <th>133960</th>\n",
       "      <td>commercial</td>\n",
       "      <td>450.0</td>\n",
       "      <td>3.0</td>\n",
       "      <td>1.0</td>\n",
       "      <td>3.0</td>\n",
       "      <td>4.0</td>\n",
       "      <td>Venda</td>\n",
       "      <td>1085000</td>\n",
       "    </tr>\n",
       "    <tr>\n",
       "      <th>133961</th>\n",
       "      <td>residential</td>\n",
       "      <td>20.0</td>\n",
       "      <td>3.0</td>\n",
       "      <td>2.0</td>\n",
       "      <td>3.0</td>\n",
       "      <td>2.0</td>\n",
       "      <td>Venda</td>\n",
       "      <td>623000</td>\n",
       "    </tr>\n",
       "    <tr>\n",
       "      <th>133962</th>\n",
       "      <td>residential</td>\n",
       "      <td>357.0</td>\n",
       "      <td>4.0</td>\n",
       "      <td>1.0</td>\n",
       "      <td>4.0</td>\n",
       "      <td>4.0</td>\n",
       "      <td>Venda</td>\n",
       "      <td>1820000</td>\n",
       "    </tr>\n",
       "    <tr>\n",
       "      <th>133963</th>\n",
       "      <td>commercial</td>\n",
       "      <td>40.0</td>\n",
       "      <td>1.0</td>\n",
       "      <td>NaN</td>\n",
       "      <td>NaN</td>\n",
       "      <td>NaN</td>\n",
       "      <td>Locação</td>\n",
       "      <td>842</td>\n",
       "    </tr>\n",
       "  </tbody>\n",
       "</table>\n",
       "<p>133964 rows × 8 columns</p>\n",
       "</div>"
      ],
      "text/plain": [
       "\n",
       "           property  useful_area  bathroom  suite  bedroom  garage       ad  \\\n",
       "\u001b[1;36m0\u001b[0m       residential        \u001b[1;36m388.0\u001b[0m       \u001b[1;36m3.0\u001b[0m    \u001b[1;36m1.0\u001b[0m      \u001b[1;36m4.0\u001b[0m     \u001b[1;36m6.0\u001b[0m    Venda   \n",
       "\u001b[1;36m1\u001b[0m       residential        \u001b[1;36m129.0\u001b[0m       \u001b[1;36m2.0\u001b[0m    \u001b[1;36m1.0\u001b[0m      \u001b[1;36m3.0\u001b[0m     \u001b[1;36m2.0\u001b[0m    Venda   \n",
       "\u001b[1;36m2\u001b[0m        commercial        \u001b[1;36m396.0\u001b[0m       \u001b[1;36m4.0\u001b[0m    \u001b[1;36m0.0\u001b[0m      \u001b[1;36m0.0\u001b[0m     \u001b[1;36m5.0\u001b[0m  Locação   \n",
       "\u001b[1;36m3\u001b[0m       residential         \u001b[1;36m80.0\u001b[0m       \u001b[1;36m2.0\u001b[0m    \u001b[1;36m1.0\u001b[0m      \u001b[1;36m3.0\u001b[0m     \u001b[1;36m2.0\u001b[0m    Venda   \n",
       "\u001b[1;36m4\u001b[0m       residential       \u001b[1;36m3322.0\u001b[0m       \u001b[1;36m5.0\u001b[0m    \u001b[1;36m4.0\u001b[0m      \u001b[1;36m4.0\u001b[0m     \u001b[1;36m5.0\u001b[0m    Venda   \n",
       "\u001b[33m...\u001b[0m             \u001b[33m...\u001b[0m          \u001b[33m...\u001b[0m       \u001b[33m...\u001b[0m    \u001b[33m...\u001b[0m      \u001b[33m...\u001b[0m     \u001b[33m...\u001b[0m      \u001b[33m...\u001b[0m   \n",
       "\u001b[1;36m133959\u001b[0m  residential         \u001b[1;36m53.0\u001b[0m       \u001b[1;36m2.0\u001b[0m    \u001b[1;36m1.0\u001b[0m      \u001b[1;36m2.0\u001b[0m     \u001b[1;36m1.0\u001b[0m    Venda   \n",
       "\u001b[1;36m133960\u001b[0m   commercial        \u001b[1;36m450.0\u001b[0m       \u001b[1;36m3.0\u001b[0m    \u001b[1;36m1.0\u001b[0m      \u001b[1;36m3.0\u001b[0m     \u001b[1;36m4.0\u001b[0m    Venda   \n",
       "\u001b[1;36m133961\u001b[0m  residential         \u001b[1;36m20.0\u001b[0m       \u001b[1;36m3.0\u001b[0m    \u001b[1;36m2.0\u001b[0m      \u001b[1;36m3.0\u001b[0m     \u001b[1;36m2.0\u001b[0m    Venda   \n",
       "\u001b[1;36m133962\u001b[0m  residential        \u001b[1;36m357.0\u001b[0m       \u001b[1;36m4.0\u001b[0m    \u001b[1;36m1.0\u001b[0m      \u001b[1;36m4.0\u001b[0m     \u001b[1;36m4.0\u001b[0m    Venda   \n",
       "\u001b[1;36m133963\u001b[0m   commercial         \u001b[1;36m40.0\u001b[0m       \u001b[1;36m1.0\u001b[0m    NaN      NaN     NaN  Locação   \n",
       "\n",
       "          price  \n",
       "\u001b[1;36m0\u001b[0m        \u001b[1;36m700000\u001b[0m  \n",
       "\u001b[1;36m1\u001b[0m        \u001b[1;36m336000\u001b[0m  \n",
       "\u001b[1;36m2\u001b[0m         \u001b[1;36m24929\u001b[0m  \n",
       "\u001b[1;36m3\u001b[0m        \u001b[1;36m739643\u001b[0m  \n",
       "\u001b[1;36m4\u001b[0m       \u001b[1;36m7520099\u001b[0m  \n",
       "\u001b[33m...\u001b[0m         \u001b[33m...\u001b[0m  \n",
       "\u001b[1;36m133959\u001b[0m   \u001b[1;36m249782\u001b[0m  \n",
       "\u001b[1;36m133960\u001b[0m  \u001b[1;36m1085000\u001b[0m  \n",
       "\u001b[1;36m133961\u001b[0m   \u001b[1;36m623000\u001b[0m  \n",
       "\u001b[1;36m133962\u001b[0m  \u001b[1;36m1820000\u001b[0m  \n",
       "\u001b[1;36m133963\u001b[0m      \u001b[1;36m842\u001b[0m  \n",
       "\n",
       "\u001b[1m[\u001b[0m\u001b[1;36m133964\u001b[0m rows x \u001b[1;36m8\u001b[0m columns\u001b[1m]\u001b[0m"
      ]
     },
     "execution_count": 71,
     "metadata": {},
     "output_type": "execute_result"
    }
   ],
   "source": [
    "house_price_filtered = map_categories(dataframe=house_price_filtered, column_name='property', category_mapping=property_mapping)\n",
    "house_price_filtered"
   ]
  },
  {
   "cell_type": "markdown",
   "metadata": {},
   "source": [
    "### Ad"
   ]
  },
  {
   "cell_type": "code",
   "execution_count": 72,
   "metadata": {},
   "outputs": [
    {
     "data": {
      "text/html": [
       "<pre style=\"white-space:pre;overflow-x:auto;line-height:normal;font-family:Menlo,'DejaVu Sans Mono',consolas,'Courier New',monospace\"></pre>\n"
      ],
      "text/plain": []
     },
     "metadata": {},
     "output_type": "display_data"
    },
    {
     "data": {
      "text/plain": [
       "\u001b[1;35marray\u001b[0m\u001b[1m(\u001b[0m\u001b[1m[\u001b[0m\u001b[32m'Venda'\u001b[0m, \u001b[32m'Locação'\u001b[0m\u001b[1m]\u001b[0m, \u001b[33mdtype\u001b[0m=\u001b[35mobject\u001b[0m\u001b[1m)\u001b[0m"
      ]
     },
     "execution_count": 72,
     "metadata": {},
     "output_type": "execute_result"
    }
   ],
   "source": [
    "house_price_filtered['ad'].unique()"
   ]
  },
  {
   "cell_type": "code",
   "execution_count": 73,
   "metadata": {},
   "outputs": [],
   "source": [
    "ad_mapping = {'Venda':'sale', 'Locação':'rental'}"
   ]
  },
  {
   "cell_type": "code",
   "execution_count": 74,
   "metadata": {},
   "outputs": [
    {
     "data": {
      "text/html": [
       "<pre style=\"white-space:pre;overflow-x:auto;line-height:normal;font-family:Menlo,'DejaVu Sans Mono',consolas,'Courier New',monospace\"></pre>\n"
      ],
      "text/plain": []
     },
     "metadata": {},
     "output_type": "display_data"
    },
    {
     "data": {
      "text/html": [
       "<div>\n",
       "<style scoped>\n",
       "    .dataframe tbody tr th:only-of-type {\n",
       "        vertical-align: middle;\n",
       "    }\n",
       "\n",
       "    .dataframe tbody tr th {\n",
       "        vertical-align: top;\n",
       "    }\n",
       "\n",
       "    .dataframe thead th {\n",
       "        text-align: right;\n",
       "    }\n",
       "</style>\n",
       "<table border=\"1\" class=\"dataframe\">\n",
       "  <thead>\n",
       "    <tr style=\"text-align: right;\">\n",
       "      <th></th>\n",
       "      <th>property</th>\n",
       "      <th>useful_area</th>\n",
       "      <th>bathroom</th>\n",
       "      <th>suite</th>\n",
       "      <th>bedroom</th>\n",
       "      <th>garage</th>\n",
       "      <th>ad</th>\n",
       "      <th>price</th>\n",
       "    </tr>\n",
       "  </thead>\n",
       "  <tbody>\n",
       "    <tr>\n",
       "      <th>0</th>\n",
       "      <td>residential</td>\n",
       "      <td>388.0</td>\n",
       "      <td>3.0</td>\n",
       "      <td>1.0</td>\n",
       "      <td>4.0</td>\n",
       "      <td>6.0</td>\n",
       "      <td>sale</td>\n",
       "      <td>700000</td>\n",
       "    </tr>\n",
       "    <tr>\n",
       "      <th>1</th>\n",
       "      <td>residential</td>\n",
       "      <td>129.0</td>\n",
       "      <td>2.0</td>\n",
       "      <td>1.0</td>\n",
       "      <td>3.0</td>\n",
       "      <td>2.0</td>\n",
       "      <td>sale</td>\n",
       "      <td>336000</td>\n",
       "    </tr>\n",
       "    <tr>\n",
       "      <th>2</th>\n",
       "      <td>commercial</td>\n",
       "      <td>396.0</td>\n",
       "      <td>4.0</td>\n",
       "      <td>0.0</td>\n",
       "      <td>0.0</td>\n",
       "      <td>5.0</td>\n",
       "      <td>rental</td>\n",
       "      <td>24929</td>\n",
       "    </tr>\n",
       "    <tr>\n",
       "      <th>3</th>\n",
       "      <td>residential</td>\n",
       "      <td>80.0</td>\n",
       "      <td>2.0</td>\n",
       "      <td>1.0</td>\n",
       "      <td>3.0</td>\n",
       "      <td>2.0</td>\n",
       "      <td>sale</td>\n",
       "      <td>739643</td>\n",
       "    </tr>\n",
       "    <tr>\n",
       "      <th>4</th>\n",
       "      <td>residential</td>\n",
       "      <td>3322.0</td>\n",
       "      <td>5.0</td>\n",
       "      <td>4.0</td>\n",
       "      <td>4.0</td>\n",
       "      <td>5.0</td>\n",
       "      <td>sale</td>\n",
       "      <td>7520099</td>\n",
       "    </tr>\n",
       "    <tr>\n",
       "      <th>...</th>\n",
       "      <td>...</td>\n",
       "      <td>...</td>\n",
       "      <td>...</td>\n",
       "      <td>...</td>\n",
       "      <td>...</td>\n",
       "      <td>...</td>\n",
       "      <td>...</td>\n",
       "      <td>...</td>\n",
       "    </tr>\n",
       "    <tr>\n",
       "      <th>133959</th>\n",
       "      <td>residential</td>\n",
       "      <td>53.0</td>\n",
       "      <td>2.0</td>\n",
       "      <td>1.0</td>\n",
       "      <td>2.0</td>\n",
       "      <td>1.0</td>\n",
       "      <td>sale</td>\n",
       "      <td>249782</td>\n",
       "    </tr>\n",
       "    <tr>\n",
       "      <th>133960</th>\n",
       "      <td>commercial</td>\n",
       "      <td>450.0</td>\n",
       "      <td>3.0</td>\n",
       "      <td>1.0</td>\n",
       "      <td>3.0</td>\n",
       "      <td>4.0</td>\n",
       "      <td>sale</td>\n",
       "      <td>1085000</td>\n",
       "    </tr>\n",
       "    <tr>\n",
       "      <th>133961</th>\n",
       "      <td>residential</td>\n",
       "      <td>20.0</td>\n",
       "      <td>3.0</td>\n",
       "      <td>2.0</td>\n",
       "      <td>3.0</td>\n",
       "      <td>2.0</td>\n",
       "      <td>sale</td>\n",
       "      <td>623000</td>\n",
       "    </tr>\n",
       "    <tr>\n",
       "      <th>133962</th>\n",
       "      <td>residential</td>\n",
       "      <td>357.0</td>\n",
       "      <td>4.0</td>\n",
       "      <td>1.0</td>\n",
       "      <td>4.0</td>\n",
       "      <td>4.0</td>\n",
       "      <td>sale</td>\n",
       "      <td>1820000</td>\n",
       "    </tr>\n",
       "    <tr>\n",
       "      <th>133963</th>\n",
       "      <td>commercial</td>\n",
       "      <td>40.0</td>\n",
       "      <td>1.0</td>\n",
       "      <td>NaN</td>\n",
       "      <td>NaN</td>\n",
       "      <td>NaN</td>\n",
       "      <td>rental</td>\n",
       "      <td>842</td>\n",
       "    </tr>\n",
       "  </tbody>\n",
       "</table>\n",
       "<p>133964 rows × 8 columns</p>\n",
       "</div>"
      ],
      "text/plain": [
       "\n",
       "           property  useful_area  bathroom  suite  bedroom  garage      ad  \\\n",
       "\u001b[1;36m0\u001b[0m       residential        \u001b[1;36m388.0\u001b[0m       \u001b[1;36m3.0\u001b[0m    \u001b[1;36m1.0\u001b[0m      \u001b[1;36m4.0\u001b[0m     \u001b[1;36m6.0\u001b[0m    sale   \n",
       "\u001b[1;36m1\u001b[0m       residential        \u001b[1;36m129.0\u001b[0m       \u001b[1;36m2.0\u001b[0m    \u001b[1;36m1.0\u001b[0m      \u001b[1;36m3.0\u001b[0m     \u001b[1;36m2.0\u001b[0m    sale   \n",
       "\u001b[1;36m2\u001b[0m        commercial        \u001b[1;36m396.0\u001b[0m       \u001b[1;36m4.0\u001b[0m    \u001b[1;36m0.0\u001b[0m      \u001b[1;36m0.0\u001b[0m     \u001b[1;36m5.0\u001b[0m  rental   \n",
       "\u001b[1;36m3\u001b[0m       residential         \u001b[1;36m80.0\u001b[0m       \u001b[1;36m2.0\u001b[0m    \u001b[1;36m1.0\u001b[0m      \u001b[1;36m3.0\u001b[0m     \u001b[1;36m2.0\u001b[0m    sale   \n",
       "\u001b[1;36m4\u001b[0m       residential       \u001b[1;36m3322.0\u001b[0m       \u001b[1;36m5.0\u001b[0m    \u001b[1;36m4.0\u001b[0m      \u001b[1;36m4.0\u001b[0m     \u001b[1;36m5.0\u001b[0m    sale   \n",
       "\u001b[33m...\u001b[0m             \u001b[33m...\u001b[0m          \u001b[33m...\u001b[0m       \u001b[33m...\u001b[0m    \u001b[33m...\u001b[0m      \u001b[33m...\u001b[0m     \u001b[33m...\u001b[0m     \u001b[33m...\u001b[0m   \n",
       "\u001b[1;36m133959\u001b[0m  residential         \u001b[1;36m53.0\u001b[0m       \u001b[1;36m2.0\u001b[0m    \u001b[1;36m1.0\u001b[0m      \u001b[1;36m2.0\u001b[0m     \u001b[1;36m1.0\u001b[0m    sale   \n",
       "\u001b[1;36m133960\u001b[0m   commercial        \u001b[1;36m450.0\u001b[0m       \u001b[1;36m3.0\u001b[0m    \u001b[1;36m1.0\u001b[0m      \u001b[1;36m3.0\u001b[0m     \u001b[1;36m4.0\u001b[0m    sale   \n",
       "\u001b[1;36m133961\u001b[0m  residential         \u001b[1;36m20.0\u001b[0m       \u001b[1;36m3.0\u001b[0m    \u001b[1;36m2.0\u001b[0m      \u001b[1;36m3.0\u001b[0m     \u001b[1;36m2.0\u001b[0m    sale   \n",
       "\u001b[1;36m133962\u001b[0m  residential        \u001b[1;36m357.0\u001b[0m       \u001b[1;36m4.0\u001b[0m    \u001b[1;36m1.0\u001b[0m      \u001b[1;36m4.0\u001b[0m     \u001b[1;36m4.0\u001b[0m    sale   \n",
       "\u001b[1;36m133963\u001b[0m   commercial         \u001b[1;36m40.0\u001b[0m       \u001b[1;36m1.0\u001b[0m    NaN      NaN     NaN  rental   \n",
       "\n",
       "          price  \n",
       "\u001b[1;36m0\u001b[0m        \u001b[1;36m700000\u001b[0m  \n",
       "\u001b[1;36m1\u001b[0m        \u001b[1;36m336000\u001b[0m  \n",
       "\u001b[1;36m2\u001b[0m         \u001b[1;36m24929\u001b[0m  \n",
       "\u001b[1;36m3\u001b[0m        \u001b[1;36m739643\u001b[0m  \n",
       "\u001b[1;36m4\u001b[0m       \u001b[1;36m7520099\u001b[0m  \n",
       "\u001b[33m...\u001b[0m         \u001b[33m...\u001b[0m  \n",
       "\u001b[1;36m133959\u001b[0m   \u001b[1;36m249782\u001b[0m  \n",
       "\u001b[1;36m133960\u001b[0m  \u001b[1;36m1085000\u001b[0m  \n",
       "\u001b[1;36m133961\u001b[0m   \u001b[1;36m623000\u001b[0m  \n",
       "\u001b[1;36m133962\u001b[0m  \u001b[1;36m1820000\u001b[0m  \n",
       "\u001b[1;36m133963\u001b[0m      \u001b[1;36m842\u001b[0m  \n",
       "\n",
       "\u001b[1m[\u001b[0m\u001b[1;36m133964\u001b[0m rows x \u001b[1;36m8\u001b[0m columns\u001b[1m]\u001b[0m"
      ]
     },
     "execution_count": 74,
     "metadata": {},
     "output_type": "execute_result"
    }
   ],
   "source": [
    "house_price_filtered = map_categories(dataframe=house_price_filtered, column_name='ad', category_mapping=ad_mapping)\n",
    "house_price_filtered"
   ]
  },
  {
   "cell_type": "markdown",
   "metadata": {},
   "source": [
    "## NA Verification"
   ]
  },
  {
   "cell_type": "code",
   "execution_count": 75,
   "metadata": {},
   "outputs": [],
   "source": [
    "def count_na_stats(dataframe: pd.DataFrame) -> tuple:\n",
    "    \"\"\"\n",
    "    Counts the number of NA values in each column and the number of rows with at least one NA value in the DataFrame.\n",
    "\n",
    "    Parameters:\n",
    "    - dataframe: The DataFrame to be analyzed.\n",
    "\n",
    "    Returns:\n",
    "    - A tuple containing two elements:\n",
    "        - A pandas Series with the count of NA values for each column.\n",
    "        - An integer representing the count of rows with NA values.\n",
    "    \"\"\"\n",
    "    na_counts_per_column = dataframe.isna().sum()\n",
    "    na_rows_count = dataframe.isna().any(axis=1).sum()\n",
    "    return na_counts_per_column, na_rows_count"
   ]
  },
  {
   "cell_type": "code",
   "execution_count": 76,
   "metadata": {},
   "outputs": [
    {
     "name": "stdout",
     "output_type": "stream",
     "text": [
      "Counts of NA values per column:\n",
      "property           0\n",
      "useful_area     3096\n",
      "bathroom         913\n",
      "suite          13617\n",
      "bedroom         3019\n",
      "garage          4425\n",
      "ad                 0\n",
      "price              0\n",
      "dtype: int64\n",
      "\n",
      "Number of rows with at least one NA value:\n",
      "17198\n"
     ]
    }
   ],
   "source": [
    "na_stats_result = count_na_stats(house_price_filtered)\n",
    "na_counts_per_column, na_rows_count = na_stats_result\n",
    "\n",
    "print(\"Counts of NA values per column:\")\n",
    "print(na_counts_per_column)\n",
    "\n",
    "print(\"\\nNumber of rows with at least one NA value:\")\n",
    "print(na_rows_count)"
   ]
  },
  {
   "cell_type": "code",
   "execution_count": 77,
   "metadata": {},
   "outputs": [],
   "source": [
    "def drop_na_rows(dataframe: pd.DataFrame) -> pd.DataFrame:\n",
    "    \"\"\"\n",
    "    Drops rows with NA values from the DataFrame.\n",
    "\n",
    "    Parameters:\n",
    "    - dataframe: The DataFrame to be processed.\n",
    "\n",
    "    Returns:\n",
    "    - A new DataFrame with rows containing NA values removed.\n",
    "    \"\"\"\n",
    "    dataframe_without_na = dataframe.dropna()\n",
    "    return dataframe_without_na"
   ]
  },
  {
   "cell_type": "code",
   "execution_count": 78,
   "metadata": {},
   "outputs": [],
   "source": [
    "house_price_without_na = drop_na_rows(house_price_filtered)\n",
    "house_price_without_na = filter_columns(dataframe=house_price_without_na, \n",
    "                                        select_columns=['useful_area', 'bathroom', 'suite', 'bedroom', 'garage','price'])"
   ]
  },
  {
   "cell_type": "markdown",
   "metadata": {},
   "source": [
    "Renaming of the database that will be used in graphical analysis"
   ]
  },
  {
   "cell_type": "code",
   "execution_count": 79,
   "metadata": {},
   "outputs": [],
   "source": [
    "hp_data = house_price_without_na.copy()"
   ]
  },
  {
   "cell_type": "markdown",
   "metadata": {},
   "source": [
    "# Statistical analysis"
   ]
  },
  {
   "cell_type": "markdown",
   "metadata": {},
   "source": [
    "## Univariate analysis\n"
   ]
  },
  {
   "cell_type": "code",
   "execution_count": 80,
   "metadata": {},
   "outputs": [],
   "source": [
    "def summary_statistics(dataframe: pd.DataFrame) -> dict:\n",
    "    \"\"\"\n",
    "    Computes summary statistics for numeric columns and category counts for categorical columns in the DataFrame.\n",
    "\n",
    "    Parameters:\n",
    "    - dataframe: The DataFrame to be analyzed.\n",
    "\n",
    "    Returns:\n",
    "    - A dictionary containing summary statistics:\n",
    "      {\n",
    "        'numeric_quartiles': DataFrame with quartiles for numeric columns,\n",
    "        'category_counts': DataFrame with counts for each category in categorical columns\n",
    "      }\n",
    "    \"\"\"\n",
    "    numeric_columns = dataframe.select_dtypes(include=['number']).columns\n",
    "    category_columns = dataframe.select_dtypes(include=['object', 'category']).columns\n",
    "\n",
    "    # Summary statistics for numeric columns\n",
    "    numeric_quartiles = dataframe[numeric_columns].describe(percentiles=[0.25, 0.5, 0.75])\n",
    "\n",
    "    # Category counts for categorical columns\n",
    "    category_counts = pd.DataFrame()\n",
    "    for column in category_columns:\n",
    "        category_counts[column] = dataframe[column].value_counts()\n",
    "\n",
    "    result_dict = {\n",
    "        'numeric_quartiles': numeric_quartiles,\n",
    "        'category_counts': category_counts\n",
    "    }\n",
    "\n",
    "    return result_dict"
   ]
  },
  {
   "cell_type": "code",
   "execution_count": 81,
   "metadata": {},
   "outputs": [
    {
     "name": "stdout",
     "output_type": "stream",
     "text": [
      "Numeric Quartiles:\n",
      "        useful_area       bathroom          suite        bedroom  \\\n",
      "count  1.167660e+05  116766.000000  116766.000000  116766.000000   \n",
      "mean   2.233514e+02       2.460314       1.121748       2.377653   \n",
      "std    6.047520e+03       2.113711       1.213984       2.219531   \n",
      "min    1.000000e+00       0.000000       0.000000       0.000000   \n",
      "25%    6.500000e+01       1.000000       0.000000       2.000000   \n",
      "50%    1.120000e+02       2.000000       1.000000       3.000000   \n",
      "75%    2.000000e+02       3.000000       2.000000       3.000000   \n",
      "max    2.025000e+06     200.000000      80.000000     600.000000   \n",
      "\n",
      "              garage         price  \n",
      "count  116766.000000  1.167660e+05  \n",
      "mean        2.463645  6.948812e+05  \n",
      "std         4.981696  1.321171e+06  \n",
      "min         0.000000  7.000000e+01  \n",
      "25%         1.000000  1.890000e+05  \n",
      "50%         2.000000  3.941000e+05  \n",
      "75%         3.000000  7.700000e+05  \n",
      "max       589.000000  8.400000e+07  \n",
      "\n",
      "Category Counts:\n",
      "Empty DataFrame\n",
      "Columns: []\n",
      "Index: []\n"
     ]
    }
   ],
   "source": [
    "summary_stats_result = summary_statistics(hp_data)\n",
    "\n",
    "print(\"Numeric Quartiles:\")\n",
    "print(summary_stats_result['numeric_quartiles'])\n",
    "\n",
    "print(\"\\nCategory Counts:\")\n",
    "print(summary_stats_result['category_counts'])"
   ]
  },
  {
   "cell_type": "markdown",
   "metadata": {},
   "source": [
    "Filtering outliers in the database and categorical variables"
   ]
  },
  {
   "cell_type": "code",
   "execution_count": 82,
   "metadata": {},
   "outputs": [],
   "source": [
    "def remove_outliers(dataframe: pd.DataFrame, lower_percentile: float = 0.05, upper_percentile: float = 0.95) -> pd.DataFrame:\n",
    "    \"\"\"\n",
    "    Removes outliers from numeric columns in the DataFrame based on the specified percentiles.\n",
    "\n",
    "    Parameters:\n",
    "    - dataframe: The DataFrame to be processed.\n",
    "    - lower_percentile: The lower percentile (default is 1%).\n",
    "    - upper_percentile: The upper percentile (default is 99%).\n",
    "\n",
    "    Returns:\n",
    "    - A new DataFrame with outliers removed.\n",
    "    \"\"\"\n",
    "    numeric_columns = dataframe.select_dtypes(include=['number']).columns\n",
    "\n",
    "    for column in numeric_columns:\n",
    "        lower_limit = dataframe[column].quantile(lower_percentile)\n",
    "        upper_limit = dataframe[column].quantile(upper_percentile)\n",
    "\n",
    "        dataframe = dataframe[(dataframe[column] >= lower_limit) & (dataframe[column] <= upper_limit)]\n",
    "\n",
    "    return dataframe"
   ]
  },
  {
   "cell_type": "code",
   "execution_count": 83,
   "metadata": {},
   "outputs": [],
   "source": [
    "def filter_dataframe(df: pd.DataFrame, conditions: dict) -> pd.DataFrame:\n",
    "    \"\"\"\n",
    "    Filters rows in the DataFrame based on specified conditions for multiple columns.\n",
    "\n",
    "    Parameters:\n",
    "    - df: The DataFrame to be filtered.\n",
    "    - conditions: A dictionary where keys are column names, and values are the desired values for those columns.\n",
    "\n",
    "    Returns:\n",
    "    - A new DataFrame with rows filtered based on the specified conditions.\n",
    "    \"\"\"\n",
    "    condition_mask = pd.Series([True] * len(df), index=df.index)\n",
    "\n",
    "    for column, value in conditions.items():\n",
    "        condition_mask &= (df[column] == value)\n",
    "\n",
    "    filtered_df = df[condition_mask]\n",
    "    return filtered_df"
   ]
  },
  {
   "cell_type": "code",
   "execution_count": 84,
   "metadata": {},
   "outputs": [
    {
     "data": {
      "text/html": [
       "<pre style=\"white-space:pre;overflow-x:auto;line-height:normal;font-family:Menlo,'DejaVu Sans Mono',consolas,'Courier New',monospace\"><span style=\"color: #800000; text-decoration-color: #800000\">╭─────────────────────────────── </span><span style=\"color: #800000; text-decoration-color: #800000; font-weight: bold\">Traceback </span><span style=\"color: #bf7f7f; text-decoration-color: #bf7f7f; font-weight: bold\">(most recent call last)</span><span style=\"color: #800000; text-decoration-color: #800000\"> ────────────────────────────────╮</span>\n",
       "<span style=\"color: #800000; text-decoration-color: #800000\">│</span> <span style=\"color: #808000; text-decoration-color: #808000\">C:\\Users\\paulo.santos\\AppData\\Local\\anaconda3\\envs\\house_price\\Lib\\site-packages\\pandas\\core\\ind</span> <span style=\"color: #800000; text-decoration-color: #800000\">│</span>\n",
       "<span style=\"color: #800000; text-decoration-color: #800000\">│</span> <span style=\"color: #808000; text-decoration-color: #808000\">exes\\base.py</span>:<span style=\"color: #0000ff; text-decoration-color: #0000ff\">3791</span> in <span style=\"color: #00ff00; text-decoration-color: #00ff00\">get_loc</span>                                                                     <span style=\"color: #800000; text-decoration-color: #800000\">│</span>\n",
       "<span style=\"color: #800000; text-decoration-color: #800000\">│</span>                                                                                                  <span style=\"color: #800000; text-decoration-color: #800000\">│</span>\n",
       "<span style=\"color: #800000; text-decoration-color: #800000\">│</span> in <span style=\"color: #00ff00; text-decoration-color: #00ff00\">pandas._libs.index.IndexEngine.get_loc</span>:<span style=\"color: #0000ff; text-decoration-color: #0000ff\">152</span>                                                    <span style=\"color: #800000; text-decoration-color: #800000\">│</span>\n",
       "<span style=\"color: #800000; text-decoration-color: #800000\">│</span>                                                                                                  <span style=\"color: #800000; text-decoration-color: #800000\">│</span>\n",
       "<span style=\"color: #800000; text-decoration-color: #800000\">│</span> in <span style=\"color: #00ff00; text-decoration-color: #00ff00\">pandas._libs.index.IndexEngine.get_loc</span>:<span style=\"color: #0000ff; text-decoration-color: #0000ff\">181</span>                                                    <span style=\"color: #800000; text-decoration-color: #800000\">│</span>\n",
       "<span style=\"color: #800000; text-decoration-color: #800000\">│</span>                                                                                                  <span style=\"color: #800000; text-decoration-color: #800000\">│</span>\n",
       "<span style=\"color: #800000; text-decoration-color: #800000\">│</span> in <span style=\"color: #00ff00; text-decoration-color: #00ff00\">pandas._libs.hashtable.PyObjectHashTable.get_item</span>:<span style=\"color: #0000ff; text-decoration-color: #0000ff\">7080</span>                                        <span style=\"color: #800000; text-decoration-color: #800000\">│</span>\n",
       "<span style=\"color: #800000; text-decoration-color: #800000\">│</span>                                                                                                  <span style=\"color: #800000; text-decoration-color: #800000\">│</span>\n",
       "<span style=\"color: #800000; text-decoration-color: #800000\">│</span> in <span style=\"color: #00ff00; text-decoration-color: #00ff00\">pandas._libs.hashtable.PyObjectHashTable.get_item</span>:<span style=\"color: #0000ff; text-decoration-color: #0000ff\">7088</span>                                        <span style=\"color: #800000; text-decoration-color: #800000\">│</span>\n",
       "<span style=\"color: #800000; text-decoration-color: #800000\">╰──────────────────────────────────────────────────────────────────────────────────────────────────╯</span>\n",
       "<span style=\"color: #ff0000; text-decoration-color: #ff0000; font-weight: bold\">KeyError: </span><span style=\"color: #008000; text-decoration-color: #008000\">'property'</span>\n",
       "\n",
       "<span style=\"font-style: italic\">The above exception was the direct cause of the following exception:</span>\n",
       "\n",
       "<span style=\"color: #800000; text-decoration-color: #800000\">╭─────────────────────────────── </span><span style=\"color: #800000; text-decoration-color: #800000; font-weight: bold\">Traceback </span><span style=\"color: #bf7f7f; text-decoration-color: #bf7f7f; font-weight: bold\">(most recent call last)</span><span style=\"color: #800000; text-decoration-color: #800000\"> ────────────────────────────────╮</span>\n",
       "<span style=\"color: #800000; text-decoration-color: #800000\">│</span> in <span style=\"color: #00ff00; text-decoration-color: #00ff00\">&lt;module&gt;</span>:<span style=\"color: #0000ff; text-decoration-color: #0000ff\">4</span>                                                                                    <span style=\"color: #800000; text-decoration-color: #800000\">│</span>\n",
       "<span style=\"color: #800000; text-decoration-color: #800000\">│</span>                                                                                                  <span style=\"color: #800000; text-decoration-color: #800000\">│</span>\n",
       "<span style=\"color: #800000; text-decoration-color: #800000\">│</span>   <span style=\"color: #7f7f7f; text-decoration-color: #7f7f7f\">1 </span>conditions = {<span style=\"color: #808000; text-decoration-color: #808000\">'property'</span>: <span style=\"color: #808000; text-decoration-color: #808000\">'residential'</span>, <span style=\"color: #808000; text-decoration-color: #808000\">'ad'</span>: <span style=\"color: #808000; text-decoration-color: #808000\">'sale'</span>}                                       <span style=\"color: #800000; text-decoration-color: #800000\">│</span>\n",
       "<span style=\"color: #800000; text-decoration-color: #800000\">│</span>   <span style=\"color: #7f7f7f; text-decoration-color: #7f7f7f\">2 </span>                                                                                             <span style=\"color: #800000; text-decoration-color: #800000\">│</span>\n",
       "<span style=\"color: #800000; text-decoration-color: #800000\">│</span>   <span style=\"color: #7f7f7f; text-decoration-color: #7f7f7f\">3 </span>hp_data_no_outliers = remove_outliers(dataframe=hp_data, lower_percentile=<span style=\"color: #0000ff; text-decoration-color: #0000ff\">0.05</span>, upper_pe     <span style=\"color: #800000; text-decoration-color: #800000\">│</span>\n",
       "<span style=\"color: #800000; text-decoration-color: #800000\">│</span> <span style=\"color: #800000; text-decoration-color: #800000\">❱ </span>4 hp_data_no_outliers = filter_dataframe(hp_data, conditions)                                  <span style=\"color: #800000; text-decoration-color: #800000\">│</span>\n",
       "<span style=\"color: #800000; text-decoration-color: #800000\">│</span>   <span style=\"color: #7f7f7f; text-decoration-color: #7f7f7f\">5 </span>                                                                                             <span style=\"color: #800000; text-decoration-color: #800000\">│</span>\n",
       "<span style=\"color: #800000; text-decoration-color: #800000\">│</span>                                                                                                  <span style=\"color: #800000; text-decoration-color: #800000\">│</span>\n",
       "<span style=\"color: #800000; text-decoration-color: #800000\">│</span> in <span style=\"color: #00ff00; text-decoration-color: #00ff00\">filter_dataframe</span>:<span style=\"color: #0000ff; text-decoration-color: #0000ff\">15</span>                                                                           <span style=\"color: #800000; text-decoration-color: #800000\">│</span>\n",
       "<span style=\"color: #800000; text-decoration-color: #800000\">│</span>                                                                                                  <span style=\"color: #800000; text-decoration-color: #800000\">│</span>\n",
       "<span style=\"color: #800000; text-decoration-color: #800000\">│</span>   <span style=\"color: #7f7f7f; text-decoration-color: #7f7f7f\">12 </span><span style=\"color: #7f7f7f; text-decoration-color: #7f7f7f\">│   </span>condition_mask = pd.Series([<span style=\"color: #0000ff; text-decoration-color: #0000ff\">True</span>] * <span style=\"color: #00ffff; text-decoration-color: #00ffff\">len</span>(df), index=df.index)                            <span style=\"color: #800000; text-decoration-color: #800000\">│</span>\n",
       "<span style=\"color: #800000; text-decoration-color: #800000\">│</span>   <span style=\"color: #7f7f7f; text-decoration-color: #7f7f7f\">13 </span><span style=\"color: #7f7f7f; text-decoration-color: #7f7f7f\">│   </span>                                                                                        <span style=\"color: #800000; text-decoration-color: #800000\">│</span>\n",
       "<span style=\"color: #800000; text-decoration-color: #800000\">│</span>   <span style=\"color: #7f7f7f; text-decoration-color: #7f7f7f\">14 </span><span style=\"color: #7f7f7f; text-decoration-color: #7f7f7f\">│   </span><span style=\"color: #0000ff; text-decoration-color: #0000ff\">for</span> column, value <span style=\"color: #ff00ff; text-decoration-color: #ff00ff\">in</span> conditions.items():                                                <span style=\"color: #800000; text-decoration-color: #800000\">│</span>\n",
       "<span style=\"color: #800000; text-decoration-color: #800000\">│</span> <span style=\"color: #800000; text-decoration-color: #800000\">❱ </span>15 <span style=\"color: #7f7f7f; text-decoration-color: #7f7f7f\">│   │   </span>condition_mask &amp;= (df[column] == value)                                             <span style=\"color: #800000; text-decoration-color: #800000\">│</span>\n",
       "<span style=\"color: #800000; text-decoration-color: #800000\">│</span>   <span style=\"color: #7f7f7f; text-decoration-color: #7f7f7f\">16 </span><span style=\"color: #7f7f7f; text-decoration-color: #7f7f7f\">│   </span>                                                                                        <span style=\"color: #800000; text-decoration-color: #800000\">│</span>\n",
       "<span style=\"color: #800000; text-decoration-color: #800000\">│</span>   <span style=\"color: #7f7f7f; text-decoration-color: #7f7f7f\">17 </span><span style=\"color: #7f7f7f; text-decoration-color: #7f7f7f\">│   </span>filtered_df = df[condition_mask]                                                        <span style=\"color: #800000; text-decoration-color: #800000\">│</span>\n",
       "<span style=\"color: #800000; text-decoration-color: #800000\">│</span>   <span style=\"color: #7f7f7f; text-decoration-color: #7f7f7f\">18 </span><span style=\"color: #7f7f7f; text-decoration-color: #7f7f7f\">│   </span><span style=\"color: #0000ff; text-decoration-color: #0000ff\">return</span> filtered_df                                                                      <span style=\"color: #800000; text-decoration-color: #800000\">│</span>\n",
       "<span style=\"color: #800000; text-decoration-color: #800000\">│</span>                                                                                                  <span style=\"color: #800000; text-decoration-color: #800000\">│</span>\n",
       "<span style=\"color: #800000; text-decoration-color: #800000\">│</span> <span style=\"color: #808000; text-decoration-color: #808000\">C:\\Users\\paulo.santos\\AppData\\Local\\anaconda3\\envs\\house_price\\Lib\\site-packages\\pandas\\core\\fra</span> <span style=\"color: #800000; text-decoration-color: #800000\">│</span>\n",
       "<span style=\"color: #800000; text-decoration-color: #800000\">│</span> <span style=\"color: #808000; text-decoration-color: #808000\">me.py</span>:<span style=\"color: #0000ff; text-decoration-color: #0000ff\">3893</span> in <span style=\"color: #00ff00; text-decoration-color: #00ff00\">__getitem__</span>                                                                        <span style=\"color: #800000; text-decoration-color: #800000\">│</span>\n",
       "<span style=\"color: #800000; text-decoration-color: #800000\">│</span>                                                                                                  <span style=\"color: #800000; text-decoration-color: #800000\">│</span>\n",
       "<span style=\"color: #800000; text-decoration-color: #800000\">│</span> <span style=\"color: #808000; text-decoration-color: #808000\">C:\\Users\\paulo.santos\\AppData\\Local\\anaconda3\\envs\\house_price\\Lib\\site-packages\\pandas\\core\\ind</span> <span style=\"color: #800000; text-decoration-color: #800000\">│</span>\n",
       "<span style=\"color: #800000; text-decoration-color: #800000\">│</span> <span style=\"color: #808000; text-decoration-color: #808000\">exes\\base.py</span>:<span style=\"color: #0000ff; text-decoration-color: #0000ff\">3798</span> in <span style=\"color: #00ff00; text-decoration-color: #00ff00\">get_loc</span>                                                                     <span style=\"color: #800000; text-decoration-color: #800000\">│</span>\n",
       "<span style=\"color: #800000; text-decoration-color: #800000\">╰──────────────────────────────────────────────────────────────────────────────────────────────────╯</span>\n",
       "<span style=\"color: #ff0000; text-decoration-color: #ff0000; font-weight: bold\">KeyError: </span><span style=\"color: #008000; text-decoration-color: #008000\">'property'</span>\n",
       "</pre>\n"
      ],
      "text/plain": [
       "\u001b[31m╭─\u001b[0m\u001b[31m──────────────────────────────\u001b[0m\u001b[31m \u001b[0m\u001b[1;31mTraceback \u001b[0m\u001b[1;2;31m(most recent call last)\u001b[0m\u001b[31m \u001b[0m\u001b[31m───────────────────────────────\u001b[0m\u001b[31m─╮\u001b[0m\n",
       "\u001b[31m│\u001b[0m \u001b[33mC:\\Users\\paulo.santos\\AppData\\Local\\anaconda3\\envs\\house_price\\Lib\\site-packages\\pandas\\core\\ind\u001b[0m \u001b[31m│\u001b[0m\n",
       "\u001b[31m│\u001b[0m \u001b[33mexes\\base.py\u001b[0m:\u001b[94m3791\u001b[0m in \u001b[92mget_loc\u001b[0m                                                                     \u001b[31m│\u001b[0m\n",
       "\u001b[31m│\u001b[0m                                                                                                  \u001b[31m│\u001b[0m\n",
       "\u001b[31m│\u001b[0m in \u001b[92mpandas._libs.index.IndexEngine.get_loc\u001b[0m:\u001b[94m152\u001b[0m                                                    \u001b[31m│\u001b[0m\n",
       "\u001b[31m│\u001b[0m                                                                                                  \u001b[31m│\u001b[0m\n",
       "\u001b[31m│\u001b[0m in \u001b[92mpandas._libs.index.IndexEngine.get_loc\u001b[0m:\u001b[94m181\u001b[0m                                                    \u001b[31m│\u001b[0m\n",
       "\u001b[31m│\u001b[0m                                                                                                  \u001b[31m│\u001b[0m\n",
       "\u001b[31m│\u001b[0m in \u001b[92mpandas._libs.hashtable.PyObjectHashTable.get_item\u001b[0m:\u001b[94m7080\u001b[0m                                        \u001b[31m│\u001b[0m\n",
       "\u001b[31m│\u001b[0m                                                                                                  \u001b[31m│\u001b[0m\n",
       "\u001b[31m│\u001b[0m in \u001b[92mpandas._libs.hashtable.PyObjectHashTable.get_item\u001b[0m:\u001b[94m7088\u001b[0m                                        \u001b[31m│\u001b[0m\n",
       "\u001b[31m╰──────────────────────────────────────────────────────────────────────────────────────────────────╯\u001b[0m\n",
       "\u001b[1;91mKeyError: \u001b[0m\u001b[32m'property'\u001b[0m\n",
       "\n",
       "\u001b[3mThe above exception was the direct cause of the following exception:\u001b[0m\n",
       "\n",
       "\u001b[31m╭─\u001b[0m\u001b[31m──────────────────────────────\u001b[0m\u001b[31m \u001b[0m\u001b[1;31mTraceback \u001b[0m\u001b[1;2;31m(most recent call last)\u001b[0m\u001b[31m \u001b[0m\u001b[31m───────────────────────────────\u001b[0m\u001b[31m─╮\u001b[0m\n",
       "\u001b[31m│\u001b[0m in \u001b[92m<module>\u001b[0m:\u001b[94m4\u001b[0m                                                                                    \u001b[31m│\u001b[0m\n",
       "\u001b[31m│\u001b[0m                                                                                                  \u001b[31m│\u001b[0m\n",
       "\u001b[31m│\u001b[0m   \u001b[2m1 \u001b[0mconditions = {\u001b[33m'\u001b[0m\u001b[33mproperty\u001b[0m\u001b[33m'\u001b[0m: \u001b[33m'\u001b[0m\u001b[33mresidential\u001b[0m\u001b[33m'\u001b[0m, \u001b[33m'\u001b[0m\u001b[33mad\u001b[0m\u001b[33m'\u001b[0m: \u001b[33m'\u001b[0m\u001b[33msale\u001b[0m\u001b[33m'\u001b[0m}                                       \u001b[31m│\u001b[0m\n",
       "\u001b[31m│\u001b[0m   \u001b[2m2 \u001b[0m                                                                                             \u001b[31m│\u001b[0m\n",
       "\u001b[31m│\u001b[0m   \u001b[2m3 \u001b[0mhp_data_no_outliers = remove_outliers(dataframe=hp_data, lower_percentile=\u001b[94m0.05\u001b[0m, upper_pe     \u001b[31m│\u001b[0m\n",
       "\u001b[31m│\u001b[0m \u001b[31m❱ \u001b[0m4 hp_data_no_outliers = filter_dataframe(hp_data, conditions)                                  \u001b[31m│\u001b[0m\n",
       "\u001b[31m│\u001b[0m   \u001b[2m5 \u001b[0m                                                                                             \u001b[31m│\u001b[0m\n",
       "\u001b[31m│\u001b[0m                                                                                                  \u001b[31m│\u001b[0m\n",
       "\u001b[31m│\u001b[0m in \u001b[92mfilter_dataframe\u001b[0m:\u001b[94m15\u001b[0m                                                                           \u001b[31m│\u001b[0m\n",
       "\u001b[31m│\u001b[0m                                                                                                  \u001b[31m│\u001b[0m\n",
       "\u001b[31m│\u001b[0m   \u001b[2m12 \u001b[0m\u001b[2m│   \u001b[0mcondition_mask = pd.Series([\u001b[94mTrue\u001b[0m] * \u001b[96mlen\u001b[0m(df), index=df.index)                            \u001b[31m│\u001b[0m\n",
       "\u001b[31m│\u001b[0m   \u001b[2m13 \u001b[0m\u001b[2m│   \u001b[0m                                                                                        \u001b[31m│\u001b[0m\n",
       "\u001b[31m│\u001b[0m   \u001b[2m14 \u001b[0m\u001b[2m│   \u001b[0m\u001b[94mfor\u001b[0m column, value \u001b[95min\u001b[0m conditions.items():                                                \u001b[31m│\u001b[0m\n",
       "\u001b[31m│\u001b[0m \u001b[31m❱ \u001b[0m15 \u001b[2m│   │   \u001b[0mcondition_mask &= (df[column] == value)                                             \u001b[31m│\u001b[0m\n",
       "\u001b[31m│\u001b[0m   \u001b[2m16 \u001b[0m\u001b[2m│   \u001b[0m                                                                                        \u001b[31m│\u001b[0m\n",
       "\u001b[31m│\u001b[0m   \u001b[2m17 \u001b[0m\u001b[2m│   \u001b[0mfiltered_df = df[condition_mask]                                                        \u001b[31m│\u001b[0m\n",
       "\u001b[31m│\u001b[0m   \u001b[2m18 \u001b[0m\u001b[2m│   \u001b[0m\u001b[94mreturn\u001b[0m filtered_df                                                                      \u001b[31m│\u001b[0m\n",
       "\u001b[31m│\u001b[0m                                                                                                  \u001b[31m│\u001b[0m\n",
       "\u001b[31m│\u001b[0m \u001b[33mC:\\Users\\paulo.santos\\AppData\\Local\\anaconda3\\envs\\house_price\\Lib\\site-packages\\pandas\\core\\fra\u001b[0m \u001b[31m│\u001b[0m\n",
       "\u001b[31m│\u001b[0m \u001b[33mme.py\u001b[0m:\u001b[94m3893\u001b[0m in \u001b[92m__getitem__\u001b[0m                                                                        \u001b[31m│\u001b[0m\n",
       "\u001b[31m│\u001b[0m                                                                                                  \u001b[31m│\u001b[0m\n",
       "\u001b[31m│\u001b[0m \u001b[33mC:\\Users\\paulo.santos\\AppData\\Local\\anaconda3\\envs\\house_price\\Lib\\site-packages\\pandas\\core\\ind\u001b[0m \u001b[31m│\u001b[0m\n",
       "\u001b[31m│\u001b[0m \u001b[33mexes\\base.py\u001b[0m:\u001b[94m3798\u001b[0m in \u001b[92mget_loc\u001b[0m                                                                     \u001b[31m│\u001b[0m\n",
       "\u001b[31m╰──────────────────────────────────────────────────────────────────────────────────────────────────╯\u001b[0m\n",
       "\u001b[1;91mKeyError: \u001b[0m\u001b[32m'property'\u001b[0m\n"
      ]
     },
     "metadata": {},
     "output_type": "display_data"
    }
   ],
   "source": [
    "conditions = {'property': 'residential', 'ad': 'sale'}\n",
    "\n",
    "hp_data_no_outliers = remove_outliers(dataframe=hp_data, lower_percentile=0.05, upper_percentile=0.95)\n",
    "hp_data_no_outliers = filter_dataframe(hp_data, conditions)"
   ]
  },
  {
   "cell_type": "code",
   "execution_count": 85,
   "metadata": {},
   "outputs": [
    {
     "name": "stdout",
     "output_type": "stream",
     "text": [
      "Numeric Quartiles:\n",
      "        useful_area      bathroom         suite       bedroom        garage  \\\n",
      "count  83779.000000  83779.000000  83779.000000  83779.000000  83779.000000   \n",
      "mean     120.047542      2.166247      0.946920      2.386827      1.729550   \n",
      "std       75.039703      1.256360      0.905651      0.977361      1.004431   \n",
      "min       37.000000      0.000000      0.000000      0.000000      0.000000   \n",
      "25%       65.000000      1.000000      0.000000      2.000000      1.000000   \n",
      "50%      100.000000      2.000000      1.000000      3.000000      2.000000   \n",
      "75%      150.000000      3.000000      1.000000      3.000000      2.000000   \n",
      "max      500.000000      5.000000      3.000000      4.000000      4.000000   \n",
      "\n",
      "              price  \n",
      "count  8.377900e+04  \n",
      "mean   4.668309e+05  \n",
      "std    3.449506e+05  \n",
      "min    2.033000e+03  \n",
      "25%    2.379990e+05  \n",
      "50%    3.954300e+05  \n",
      "75%    6.300000e+05  \n",
      "max    1.603000e+06  \n",
      "\n",
      "Category Counts:\n",
      "Empty DataFrame\n",
      "Columns: []\n",
      "Index: []\n"
     ]
    }
   ],
   "source": [
    "summary_stats_result_no_outliers = summary_statistics(hp_data_no_outliers)\n",
    "\n",
    "print(\"Numeric Quartiles:\")\n",
    "print(summary_stats_result_no_outliers['numeric_quartiles'])\n",
    "\n",
    "print(\"\\nCategory Counts:\")\n",
    "print(summary_stats_result_no_outliers['category_counts'])"
   ]
  },
  {
   "cell_type": "markdown",
   "metadata": {},
   "source": [
    "# Bivariate analysis\n"
   ]
  },
  {
   "cell_type": "code",
   "execution_count": 88,
   "metadata": {},
   "outputs": [],
   "source": [
    "def correlation_matrix(dataframe: pd.DataFrame, method='pearson'):\n",
    "    \"\"\"\n",
    "    Generates a correlation matrix and heatmap for numeric variables in the DataFrame using Seaborn.\n",
    "\n",
    "    Parameters:\n",
    "    - dataframe: The DataFrame to be analyzed.\n",
    "    - method: The correlation method to use ('pearson' or 'spearman').\n",
    "\n",
    "    \"\"\"\n",
    "    numeric_columns = dataframe.select_dtypes(include=['number']).columns\n",
    "\n",
    "    # Calculate correlation matrix\n",
    "    correlation_matrix = dataframe[numeric_columns].corr(method=method)\n",
    "\n",
    "    # Create a heatmap of the correlation matrix\n",
    "    plt.figure(figsize=(10, 8))\n",
    "    sns.heatmap(correlation_matrix, annot=True, cmap='coolwarm', fmt=\".2f\", linewidths=.5)\n",
    "    plt.title(f'Correlation Matrix ({method.capitalize()})')\n",
    "    plt.show()\n"
   ]
  },
  {
   "cell_type": "code",
   "execution_count": 89,
   "metadata": {},
   "outputs": [
    {
     "data": {
      "text/html": [
       "<pre style=\"white-space:pre;overflow-x:auto;line-height:normal;font-family:Menlo,'DejaVu Sans Mono',consolas,'Courier New',monospace\"></pre>\n"
      ],
      "text/plain": []
     },
     "metadata": {},
     "output_type": "display_data"
    },
    {
     "data": {
      "image/png": "[encoded data removed]",
      "text/plain": [
       "\u001b[1m<\u001b[0m\u001b[1;95mFigure\u001b[0m\u001b[39m size 100\u001b[0m\u001b[1;36m0x800\u001b[0m\u001b[39m with \u001b[0m\u001b[1;36m2\u001b[0m\u001b[39m Axes\u001b[0m\u001b[1m>\u001b[0m"
      ]
     },
     "metadata": {},
     "output_type": "display_data"
    }
   ],
   "source": [
    "correlation_matrix(hp_data_no_outliers, method='pearson')"
   ]
  },
  {
   "cell_type": "code",
   "execution_count": 90,
   "metadata": {},
   "outputs": [
    {
     "data": {
      "text/html": [
       "<pre style=\"white-space:pre;overflow-x:auto;line-height:normal;font-family:Menlo,'DejaVu Sans Mono',consolas,'Courier New',monospace\"></pre>\n"
      ],
      "text/plain": []
     },
     "metadata": {},
     "output_type": "display_data"
    },
    {
     "data": {
      "image/png": "[encoded data removed]",
      "text/plain": [
       "\u001b[1m<\u001b[0m\u001b[1;95mFigure\u001b[0m\u001b[39m size 100\u001b[0m\u001b[1;36m0x800\u001b[0m\u001b[39m with \u001b[0m\u001b[1;36m2\u001b[0m\u001b[39m Axes\u001b[0m\u001b[1m>\u001b[0m"
      ]
     },
     "metadata": {},
     "output_type": "display_data"
    }
   ],
   "source": [
    "correlation_matrix(hp_data_no_outliers, method='spearman')"
   ]
  }
 ],
 "metadata": {
  "kernelspec": {
   "display_name": "Kedro (hpp_model)",
   "language": "python",
   "name": "kedro_hpp_model"
  },
  "language_info": {
   "codemirror_mode": {
    "name": "ipython",
    "version": 3
   },
   "file_extension": ".py",
   "mimetype": "text/x-python",
   "name": "python",
   "nbconvert_exporter": "python",
   "pygments_lexer": "ipython3",
   "version": "3.11.7"
  }
 },
 "nbformat": 4,
 "nbformat_minor": 4
}
